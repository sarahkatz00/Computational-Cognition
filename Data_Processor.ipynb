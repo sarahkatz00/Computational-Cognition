{
  "cells": [
    {
      "cell_type": "markdown",
      "metadata": {
        "id": "view-in-github",
        "colab_type": "text"
      },
      "source": [
        "<a href=\"https://colab.research.google.com/github/sarahkatz00/Computational-Cognition/blob/main/Data_Processor.ipynb\" target=\"_parent\"><img src=\"https://colab.research.google.com/assets/colab-badge.svg\" alt=\"Open In Colab\"/></a>"
      ]
    },
    {
      "cell_type": "code",
      "execution_count": null,
      "metadata": {
        "id": "ECcJjlz7wtf8"
      },
      "outputs": [],
      "source": [
        "from google.colab import files\n",
        "import pandas as pd\n",
        "import math\n",
        "import numpy as np\n",
        "import io"
      ]
    },
    {
      "cell_type": "markdown",
      "metadata": {
        "id": "sJHcwoRK17MW"
      },
      "source": [
        "# Import CSV files"
      ]
    },
    {
      "cell_type": "code",
      "execution_count": null,
      "metadata": {
        "colab": {
          "base_uri": "https://localhost:8080/",
          "height": 73
        },
        "id": "6jeOrYKxOvMf",
        "outputId": "68cd43ef-ec4d-4f8b-b187-9e4e15c63cb9"
      },
      "outputs": [
        {
          "output_type": "display_data",
          "data": {
            "text/plain": [
              "<IPython.core.display.HTML object>"
            ],
            "text/html": [
              "\n",
              "     <input type=\"file\" id=\"files-054b6f2e-4e72-451f-9657-9eeea0990e42\" name=\"files[]\" multiple disabled\n",
              "        style=\"border:none\" />\n",
              "     <output id=\"result-054b6f2e-4e72-451f-9657-9eeea0990e42\">\n",
              "      Upload widget is only available when the cell has been executed in the\n",
              "      current browser session. Please rerun this cell to enable.\n",
              "      </output>\n",
              "      <script>// Copyright 2017 Google LLC\n",
              "//\n",
              "// Licensed under the Apache License, Version 2.0 (the \"License\");\n",
              "// you may not use this file except in compliance with the License.\n",
              "// You may obtain a copy of the License at\n",
              "//\n",
              "//      http://www.apache.org/licenses/LICENSE-2.0\n",
              "//\n",
              "// Unless required by applicable law or agreed to in writing, software\n",
              "// distributed under the License is distributed on an \"AS IS\" BASIS,\n",
              "// WITHOUT WARRANTIES OR CONDITIONS OF ANY KIND, either express or implied.\n",
              "// See the License for the specific language governing permissions and\n",
              "// limitations under the License.\n",
              "\n",
              "/**\n",
              " * @fileoverview Helpers for google.colab Python module.\n",
              " */\n",
              "(function(scope) {\n",
              "function span(text, styleAttributes = {}) {\n",
              "  const element = document.createElement('span');\n",
              "  element.textContent = text;\n",
              "  for (const key of Object.keys(styleAttributes)) {\n",
              "    element.style[key] = styleAttributes[key];\n",
              "  }\n",
              "  return element;\n",
              "}\n",
              "\n",
              "// Max number of bytes which will be uploaded at a time.\n",
              "const MAX_PAYLOAD_SIZE = 100 * 1024;\n",
              "\n",
              "function _uploadFiles(inputId, outputId) {\n",
              "  const steps = uploadFilesStep(inputId, outputId);\n",
              "  const outputElement = document.getElementById(outputId);\n",
              "  // Cache steps on the outputElement to make it available for the next call\n",
              "  // to uploadFilesContinue from Python.\n",
              "  outputElement.steps = steps;\n",
              "\n",
              "  return _uploadFilesContinue(outputId);\n",
              "}\n",
              "\n",
              "// This is roughly an async generator (not supported in the browser yet),\n",
              "// where there are multiple asynchronous steps and the Python side is going\n",
              "// to poll for completion of each step.\n",
              "// This uses a Promise to block the python side on completion of each step,\n",
              "// then passes the result of the previous step as the input to the next step.\n",
              "function _uploadFilesContinue(outputId) {\n",
              "  const outputElement = document.getElementById(outputId);\n",
              "  const steps = outputElement.steps;\n",
              "\n",
              "  const next = steps.next(outputElement.lastPromiseValue);\n",
              "  return Promise.resolve(next.value.promise).then((value) => {\n",
              "    // Cache the last promise value to make it available to the next\n",
              "    // step of the generator.\n",
              "    outputElement.lastPromiseValue = value;\n",
              "    return next.value.response;\n",
              "  });\n",
              "}\n",
              "\n",
              "/**\n",
              " * Generator function which is called between each async step of the upload\n",
              " * process.\n",
              " * @param {string} inputId Element ID of the input file picker element.\n",
              " * @param {string} outputId Element ID of the output display.\n",
              " * @return {!Iterable<!Object>} Iterable of next steps.\n",
              " */\n",
              "function* uploadFilesStep(inputId, outputId) {\n",
              "  const inputElement = document.getElementById(inputId);\n",
              "  inputElement.disabled = false;\n",
              "\n",
              "  const outputElement = document.getElementById(outputId);\n",
              "  outputElement.innerHTML = '';\n",
              "\n",
              "  const pickedPromise = new Promise((resolve) => {\n",
              "    inputElement.addEventListener('change', (e) => {\n",
              "      resolve(e.target.files);\n",
              "    });\n",
              "  });\n",
              "\n",
              "  const cancel = document.createElement('button');\n",
              "  inputElement.parentElement.appendChild(cancel);\n",
              "  cancel.textContent = 'Cancel upload';\n",
              "  const cancelPromise = new Promise((resolve) => {\n",
              "    cancel.onclick = () => {\n",
              "      resolve(null);\n",
              "    };\n",
              "  });\n",
              "\n",
              "  // Wait for the user to pick the files.\n",
              "  const files = yield {\n",
              "    promise: Promise.race([pickedPromise, cancelPromise]),\n",
              "    response: {\n",
              "      action: 'starting',\n",
              "    }\n",
              "  };\n",
              "\n",
              "  cancel.remove();\n",
              "\n",
              "  // Disable the input element since further picks are not allowed.\n",
              "  inputElement.disabled = true;\n",
              "\n",
              "  if (!files) {\n",
              "    return {\n",
              "      response: {\n",
              "        action: 'complete',\n",
              "      }\n",
              "    };\n",
              "  }\n",
              "\n",
              "  for (const file of files) {\n",
              "    const li = document.createElement('li');\n",
              "    li.append(span(file.name, {fontWeight: 'bold'}));\n",
              "    li.append(span(\n",
              "        `(${file.type || 'n/a'}) - ${file.size} bytes, ` +\n",
              "        `last modified: ${\n",
              "            file.lastModifiedDate ? file.lastModifiedDate.toLocaleDateString() :\n",
              "                                    'n/a'} - `));\n",
              "    const percent = span('0% done');\n",
              "    li.appendChild(percent);\n",
              "\n",
              "    outputElement.appendChild(li);\n",
              "\n",
              "    const fileDataPromise = new Promise((resolve) => {\n",
              "      const reader = new FileReader();\n",
              "      reader.onload = (e) => {\n",
              "        resolve(e.target.result);\n",
              "      };\n",
              "      reader.readAsArrayBuffer(file);\n",
              "    });\n",
              "    // Wait for the data to be ready.\n",
              "    let fileData = yield {\n",
              "      promise: fileDataPromise,\n",
              "      response: {\n",
              "        action: 'continue',\n",
              "      }\n",
              "    };\n",
              "\n",
              "    // Use a chunked sending to avoid message size limits. See b/62115660.\n",
              "    let position = 0;\n",
              "    do {\n",
              "      const length = Math.min(fileData.byteLength - position, MAX_PAYLOAD_SIZE);\n",
              "      const chunk = new Uint8Array(fileData, position, length);\n",
              "      position += length;\n",
              "\n",
              "      const base64 = btoa(String.fromCharCode.apply(null, chunk));\n",
              "      yield {\n",
              "        response: {\n",
              "          action: 'append',\n",
              "          file: file.name,\n",
              "          data: base64,\n",
              "        },\n",
              "      };\n",
              "\n",
              "      let percentDone = fileData.byteLength === 0 ?\n",
              "          100 :\n",
              "          Math.round((position / fileData.byteLength) * 100);\n",
              "      percent.textContent = `${percentDone}% done`;\n",
              "\n",
              "    } while (position < fileData.byteLength);\n",
              "  }\n",
              "\n",
              "  // All done.\n",
              "  yield {\n",
              "    response: {\n",
              "      action: 'complete',\n",
              "    }\n",
              "  };\n",
              "}\n",
              "\n",
              "scope.google = scope.google || {};\n",
              "scope.google.colab = scope.google.colab || {};\n",
              "scope.google.colab._files = {\n",
              "  _uploadFiles,\n",
              "  _uploadFilesContinue,\n",
              "};\n",
              "})(self);\n",
              "</script> "
            ]
          },
          "metadata": {}
        },
        {
          "output_type": "stream",
          "name": "stdout",
          "text": [
            "Saving locations_41_80.csv.zip to locations_41_80.csv.zip\n"
          ]
        }
      ],
      "source": [
        "# upload applications_foreground.csv and locations.csv files (zip versions)\n",
        "uploaded = files.upload()"
      ]
    },
    {
      "cell_type": "markdown",
      "metadata": {
        "id": "SAKCmHsc4W3C"
      },
      "source": [
        "**Load files into colab:**\n",
        "\n",
        "Multiple files used to increase efficiency while downloading the dataset. A single file could also be used (if a single file is used, skip merge step)."
      ]
    },
    {
      "cell_type": "code",
      "execution_count": null,
      "metadata": {
        "colab": {
          "base_uri": "https://localhost:8080/"
        },
        "id": "XU2V4ShFswM6",
        "outputId": "b3fa828a-bb46-40f1-fa9d-8e9f5718a514"
      },
      "outputs": [
        {
          "output_type": "stream",
          "name": "stdout",
          "text": [
            "Archive:  locations_41_80.csv.zip\n",
            "  inflating: locations_41_80.csv     \n"
          ]
        }
      ],
      "source": [
        "# unzip files - update file names as needed\n",
        "#!unzip applications_foreground_1_40.csv.zip\n",
        "#!unzip locations_1_40.csv.zip\n",
        "\n",
        "#!unzip applications_foreground_41_80.csv.zip\n",
        "!unzip locations_41_80.csv.zip\n",
        "\n",
        "#!unzip applications_foreground_81_100.csv.zip\n",
        "#!unzip locations_81_100.csv.zip\n",
        "\n",
        "#!unzip applications_foreground_101_125.csv.zip\n",
        "#!unzip locations_101_125.csv.zip"
      ]
    },
    {
      "cell_type": "code",
      "execution_count": null,
      "metadata": {
        "id": "7mWvRVU7niRK"
      },
      "outputs": [],
      "source": [
        "# read csv files as pandas dataframes\n",
        "#app_foreground_1 = pd.read_csv('applications_foreground_1_40.csv')\n",
        "#locations_1 = pd.read_csv('locations_1_40.csv')\n",
        "\n",
        "#app_foreground_2 = pd.read_csv('applications_foreground_41_80.csv')\n",
        "locations = pd.read_csv('locations_41_80.csv')\n",
        "\n",
        "#app_foreground_3 = pd.read_csv('applications_foreground_81_100.csv')\n",
        "#locations_3 = pd.read_csv('locations_81_100.csv')\n",
        "\n",
        "#app_foreground_4 = pd.read_csv('applications_foreground_101_125.csv')\n",
        "#locations_4 = pd.read_csv('locations_101_125.csv')"
      ]
    },
    {
      "cell_type": "markdown",
      "metadata": {
        "id": "aAGqCecQ42go"
      },
      "source": [
        "**Merge tables:**"
      ]
    },
    {
      "cell_type": "code",
      "execution_count": null,
      "metadata": {
        "id": "hUZfqcFObqTl"
      },
      "outputs": [],
      "source": [
        "# If you downloaded the table in multiple files, merge the tables here. Otherwise, skip this step\n",
        "\n",
        "location_frames = [locations_1, locations_2, locations_3, locations_4]\n",
        "app_foreground_frames = [app_foreground_1, app_foreground_2, app_foreground_3, app_foreground_4]\n",
        "\n",
        "locations = pd.concat(location_frames)\n",
        "app_foreground = pd.concat(app_foreground_frames)"
      ]
    },
    {
      "cell_type": "code",
      "execution_count": null,
      "metadata": {
        "colab": {
          "base_uri": "https://localhost:8080/"
        },
        "id": "ih-GmAqabJNL",
        "outputId": "a4a3eee7-3e84-4ce9-ab92-02e6d33158f4"
      },
      "outputs": [
        {
          "output_type": "stream",
          "name": "stdout",
          "text": [
            "Index(['data'], dtype='object')\n"
          ]
        }
      ],
      "source": [
        "# check dataframe headers\n",
        "print(locations.columns)\n",
        "#print(app_foreground.columns)"
      ]
    },
    {
      "cell_type": "code",
      "execution_count": null,
      "metadata": {
        "colab": {
          "base_uri": "https://localhost:8080/",
          "height": 206
        },
        "id": "FEvlPnP3qXOD",
        "outputId": "3db4fd5c-af5a-4193-f99d-4d2ed6aad6c2"
      },
      "outputs": [
        {
          "output_type": "execute_result",
          "data": {
            "text/plain": [
              "                                                data\n",
              "0  {\"label\": \"\", \"accuracy\": \"12.557\", \"provider\"...\n",
              "1  {\"label\": \"\", \"accuracy\": \"12.557\", \"provider\"...\n",
              "2  {\"label\": \"\", \"accuracy\": \"10.703\", \"provider\"...\n",
              "3  {\"label\": \"\", \"accuracy\": \"6.3456\", \"provider\"...\n",
              "4  {\"label\": \"\", \"accuracy\": \"9.72946\", \"provider..."
            ],
            "text/html": [
              "\n",
              "  <div id=\"df-71af1d58-d332-4c1c-b5d1-362394c0d47f\" class=\"colab-df-container\">\n",
              "    <div>\n",
              "<style scoped>\n",
              "    .dataframe tbody tr th:only-of-type {\n",
              "        vertical-align: middle;\n",
              "    }\n",
              "\n",
              "    .dataframe tbody tr th {\n",
              "        vertical-align: top;\n",
              "    }\n",
              "\n",
              "    .dataframe thead th {\n",
              "        text-align: right;\n",
              "    }\n",
              "</style>\n",
              "<table border=\"1\" class=\"dataframe\">\n",
              "  <thead>\n",
              "    <tr style=\"text-align: right;\">\n",
              "      <th></th>\n",
              "      <th>data</th>\n",
              "    </tr>\n",
              "  </thead>\n",
              "  <tbody>\n",
              "    <tr>\n",
              "      <th>0</th>\n",
              "      <td>{\"label\": \"\", \"accuracy\": \"12.557\", \"provider\"...</td>\n",
              "    </tr>\n",
              "    <tr>\n",
              "      <th>1</th>\n",
              "      <td>{\"label\": \"\", \"accuracy\": \"12.557\", \"provider\"...</td>\n",
              "    </tr>\n",
              "    <tr>\n",
              "      <th>2</th>\n",
              "      <td>{\"label\": \"\", \"accuracy\": \"10.703\", \"provider\"...</td>\n",
              "    </tr>\n",
              "    <tr>\n",
              "      <th>3</th>\n",
              "      <td>{\"label\": \"\", \"accuracy\": \"6.3456\", \"provider\"...</td>\n",
              "    </tr>\n",
              "    <tr>\n",
              "      <th>4</th>\n",
              "      <td>{\"label\": \"\", \"accuracy\": \"9.72946\", \"provider...</td>\n",
              "    </tr>\n",
              "  </tbody>\n",
              "</table>\n",
              "</div>\n",
              "    <div class=\"colab-df-buttons\">\n",
              "\n",
              "  <div class=\"colab-df-container\">\n",
              "    <button class=\"colab-df-convert\" onclick=\"convertToInteractive('df-71af1d58-d332-4c1c-b5d1-362394c0d47f')\"\n",
              "            title=\"Convert this dataframe to an interactive table.\"\n",
              "            style=\"display:none;\">\n",
              "\n",
              "  <svg xmlns=\"http://www.w3.org/2000/svg\" height=\"24px\" viewBox=\"0 -960 960 960\">\n",
              "    <path d=\"M120-120v-720h720v720H120Zm60-500h600v-160H180v160Zm220 220h160v-160H400v160Zm0 220h160v-160H400v160ZM180-400h160v-160H180v160Zm440 0h160v-160H620v160ZM180-180h160v-160H180v160Zm440 0h160v-160H620v160Z\"/>\n",
              "  </svg>\n",
              "    </button>\n",
              "\n",
              "  <style>\n",
              "    .colab-df-container {\n",
              "      display:flex;\n",
              "      gap: 12px;\n",
              "    }\n",
              "\n",
              "    .colab-df-convert {\n",
              "      background-color: #E8F0FE;\n",
              "      border: none;\n",
              "      border-radius: 50%;\n",
              "      cursor: pointer;\n",
              "      display: none;\n",
              "      fill: #1967D2;\n",
              "      height: 32px;\n",
              "      padding: 0 0 0 0;\n",
              "      width: 32px;\n",
              "    }\n",
              "\n",
              "    .colab-df-convert:hover {\n",
              "      background-color: #E2EBFA;\n",
              "      box-shadow: 0px 1px 2px rgba(60, 64, 67, 0.3), 0px 1px 3px 1px rgba(60, 64, 67, 0.15);\n",
              "      fill: #174EA6;\n",
              "    }\n",
              "\n",
              "    .colab-df-buttons div {\n",
              "      margin-bottom: 4px;\n",
              "    }\n",
              "\n",
              "    [theme=dark] .colab-df-convert {\n",
              "      background-color: #3B4455;\n",
              "      fill: #D2E3FC;\n",
              "    }\n",
              "\n",
              "    [theme=dark] .colab-df-convert:hover {\n",
              "      background-color: #434B5C;\n",
              "      box-shadow: 0px 1px 3px 1px rgba(0, 0, 0, 0.15);\n",
              "      filter: drop-shadow(0px 1px 2px rgba(0, 0, 0, 0.3));\n",
              "      fill: #FFFFFF;\n",
              "    }\n",
              "  </style>\n",
              "\n",
              "    <script>\n",
              "      const buttonEl =\n",
              "        document.querySelector('#df-71af1d58-d332-4c1c-b5d1-362394c0d47f button.colab-df-convert');\n",
              "      buttonEl.style.display =\n",
              "        google.colab.kernel.accessAllowed ? 'block' : 'none';\n",
              "\n",
              "      async function convertToInteractive(key) {\n",
              "        const element = document.querySelector('#df-71af1d58-d332-4c1c-b5d1-362394c0d47f');\n",
              "        const dataTable =\n",
              "          await google.colab.kernel.invokeFunction('convertToInteractive',\n",
              "                                                    [key], {});\n",
              "        if (!dataTable) return;\n",
              "\n",
              "        const docLinkHtml = 'Like what you see? Visit the ' +\n",
              "          '<a target=\"_blank\" href=https://colab.research.google.com/notebooks/data_table.ipynb>data table notebook</a>'\n",
              "          + ' to learn more about interactive tables.';\n",
              "        element.innerHTML = '';\n",
              "        dataTable['output_type'] = 'display_data';\n",
              "        await google.colab.output.renderOutput(dataTable, element);\n",
              "        const docLink = document.createElement('div');\n",
              "        docLink.innerHTML = docLinkHtml;\n",
              "        element.appendChild(docLink);\n",
              "      }\n",
              "    </script>\n",
              "  </div>\n",
              "\n",
              "\n",
              "<div id=\"df-af88b833-bc12-4317-8017-257f35ea3fab\">\n",
              "  <button class=\"colab-df-quickchart\" onclick=\"quickchart('df-af88b833-bc12-4317-8017-257f35ea3fab')\"\n",
              "            title=\"Suggest charts\"\n",
              "            style=\"display:none;\">\n",
              "\n",
              "<svg xmlns=\"http://www.w3.org/2000/svg\" height=\"24px\"viewBox=\"0 0 24 24\"\n",
              "     width=\"24px\">\n",
              "    <g>\n",
              "        <path d=\"M19 3H5c-1.1 0-2 .9-2 2v14c0 1.1.9 2 2 2h14c1.1 0 2-.9 2-2V5c0-1.1-.9-2-2-2zM9 17H7v-7h2v7zm4 0h-2V7h2v10zm4 0h-2v-4h2v4z\"/>\n",
              "    </g>\n",
              "</svg>\n",
              "  </button>\n",
              "\n",
              "<style>\n",
              "  .colab-df-quickchart {\n",
              "      --bg-color: #E8F0FE;\n",
              "      --fill-color: #1967D2;\n",
              "      --hover-bg-color: #E2EBFA;\n",
              "      --hover-fill-color: #174EA6;\n",
              "      --disabled-fill-color: #AAA;\n",
              "      --disabled-bg-color: #DDD;\n",
              "  }\n",
              "\n",
              "  [theme=dark] .colab-df-quickchart {\n",
              "      --bg-color: #3B4455;\n",
              "      --fill-color: #D2E3FC;\n",
              "      --hover-bg-color: #434B5C;\n",
              "      --hover-fill-color: #FFFFFF;\n",
              "      --disabled-bg-color: #3B4455;\n",
              "      --disabled-fill-color: #666;\n",
              "  }\n",
              "\n",
              "  .colab-df-quickchart {\n",
              "    background-color: var(--bg-color);\n",
              "    border: none;\n",
              "    border-radius: 50%;\n",
              "    cursor: pointer;\n",
              "    display: none;\n",
              "    fill: var(--fill-color);\n",
              "    height: 32px;\n",
              "    padding: 0;\n",
              "    width: 32px;\n",
              "  }\n",
              "\n",
              "  .colab-df-quickchart:hover {\n",
              "    background-color: var(--hover-bg-color);\n",
              "    box-shadow: 0 1px 2px rgba(60, 64, 67, 0.3), 0 1px 3px 1px rgba(60, 64, 67, 0.15);\n",
              "    fill: var(--button-hover-fill-color);\n",
              "  }\n",
              "\n",
              "  .colab-df-quickchart-complete:disabled,\n",
              "  .colab-df-quickchart-complete:disabled:hover {\n",
              "    background-color: var(--disabled-bg-color);\n",
              "    fill: var(--disabled-fill-color);\n",
              "    box-shadow: none;\n",
              "  }\n",
              "\n",
              "  .colab-df-spinner {\n",
              "    border: 2px solid var(--fill-color);\n",
              "    border-color: transparent;\n",
              "    border-bottom-color: var(--fill-color);\n",
              "    animation:\n",
              "      spin 1s steps(1) infinite;\n",
              "  }\n",
              "\n",
              "  @keyframes spin {\n",
              "    0% {\n",
              "      border-color: transparent;\n",
              "      border-bottom-color: var(--fill-color);\n",
              "      border-left-color: var(--fill-color);\n",
              "    }\n",
              "    20% {\n",
              "      border-color: transparent;\n",
              "      border-left-color: var(--fill-color);\n",
              "      border-top-color: var(--fill-color);\n",
              "    }\n",
              "    30% {\n",
              "      border-color: transparent;\n",
              "      border-left-color: var(--fill-color);\n",
              "      border-top-color: var(--fill-color);\n",
              "      border-right-color: var(--fill-color);\n",
              "    }\n",
              "    40% {\n",
              "      border-color: transparent;\n",
              "      border-right-color: var(--fill-color);\n",
              "      border-top-color: var(--fill-color);\n",
              "    }\n",
              "    60% {\n",
              "      border-color: transparent;\n",
              "      border-right-color: var(--fill-color);\n",
              "    }\n",
              "    80% {\n",
              "      border-color: transparent;\n",
              "      border-right-color: var(--fill-color);\n",
              "      border-bottom-color: var(--fill-color);\n",
              "    }\n",
              "    90% {\n",
              "      border-color: transparent;\n",
              "      border-bottom-color: var(--fill-color);\n",
              "    }\n",
              "  }\n",
              "</style>\n",
              "\n",
              "  <script>\n",
              "    async function quickchart(key) {\n",
              "      const quickchartButtonEl =\n",
              "        document.querySelector('#' + key + ' button');\n",
              "      quickchartButtonEl.disabled = true;  // To prevent multiple clicks.\n",
              "      quickchartButtonEl.classList.add('colab-df-spinner');\n",
              "      try {\n",
              "        const charts = await google.colab.kernel.invokeFunction(\n",
              "            'suggestCharts', [key], {});\n",
              "      } catch (error) {\n",
              "        console.error('Error during call to suggestCharts:', error);\n",
              "      }\n",
              "      quickchartButtonEl.classList.remove('colab-df-spinner');\n",
              "      quickchartButtonEl.classList.add('colab-df-quickchart-complete');\n",
              "    }\n",
              "    (() => {\n",
              "      let quickchartButtonEl =\n",
              "        document.querySelector('#df-af88b833-bc12-4317-8017-257f35ea3fab button');\n",
              "      quickchartButtonEl.style.display =\n",
              "        google.colab.kernel.accessAllowed ? 'block' : 'none';\n",
              "    })();\n",
              "  </script>\n",
              "</div>\n",
              "\n",
              "    </div>\n",
              "  </div>\n"
            ],
            "application/vnd.google.colaboratory.intrinsic+json": {
              "type": "dataframe",
              "summary": "{\n  \"name\": \"#app_foreground\",\n  \"rows\": 5,\n  \"fields\": [\n    {\n      \"column\": \"data\",\n      \"properties\": {\n        \"dtype\": \"string\",\n        \"num_unique_values\": 5,\n        \"samples\": [\n          \"{\\\"label\\\": \\\"\\\", \\\"accuracy\\\": \\\"12.557\\\", \\\"provider\\\": \\\"network\\\", \\\"device_id\\\": \\\"4f62f1cc-5104-42aa-8c1f-4c0c476c8665\\\", \\\"timestamp\\\": 1612270815345, \\\"double_speed\\\": 0, \\\"double_bearing\\\": 0, \\\"double_altitude\\\": 222.79998779296875, \\\"double_latitude\\\": 40.0159102, \\\"double_longitude\\\": -83.1051043}\",\n          \"{\\\"label\\\": \\\"\\\", \\\"accuracy\\\": \\\"9.72946\\\", \\\"provider\\\": \\\"gps\\\", \\\"device_id\\\": \\\"4f62f1cc-5104-42aa-8c1f-4c0c476c8665\\\", \\\"timestamp\\\": 1612292212943, \\\"double_speed\\\": 0, \\\"double_bearing\\\": 0, \\\"double_altitude\\\": 228.796875, \\\"double_latitude\\\": 40.01598361, \\\"double_longitude\\\": -83.1049533}\",\n          \"{\\\"label\\\": \\\"\\\", \\\"accuracy\\\": \\\"10.703\\\", \\\"provider\\\": \\\"gps\\\", \\\"device_id\\\": \\\"4f62f1cc-5104-42aa-8c1f-4c0c476c8665\\\", \\\"timestamp\\\": 1612286982688, \\\"double_speed\\\": 0, \\\"double_bearing\\\": 0, \\\"double_altitude\\\": 231.4302978515625, \\\"double_latitude\\\": 40.01598373, \\\"double_longitude\\\": -83.10500445}\"\n        ],\n        \"semantic_type\": \"\",\n        \"description\": \"\"\n      }\n    }\n  ]\n}"
            }
          },
          "metadata": {},
          "execution_count": 5
        }
      ],
      "source": [
        "# check datafram rows\n",
        "locations.head()\n",
        "#app_foreground.shape()"
      ]
    },
    {
      "cell_type": "markdown",
      "metadata": {
        "id": "pk-FGJUAOYoz"
      },
      "source": [
        "# Locations Table - reformat data"
      ]
    },
    {
      "cell_type": "code",
      "execution_count": null,
      "metadata": {
        "id": "juiBxjXuS7nx",
        "colab": {
          "base_uri": "https://localhost:8080/"
        },
        "outputId": "5f765147-a093-41e4-cd37-628f01365ef3"
      },
      "outputs": [
        {
          "output_type": "stream",
          "name": "stdout",
          "text": [
            "{\"label\": \"disabled\", \"accuracy\": \"0\", \"provider\": \"network\", \"device_id\": \"dc00ed68-7edd-4a73-a30c-38cdea203a38\", \"timestamp\": 1614239930566, \"double_speed\": 0, \"double_bearing\": 0, \"double_altitude\": 0, \"double_latitude\": 0, \"double_longitude\": 0}\n"
          ]
        }
      ],
      "source": [
        "# check first row of dataframe columns\n",
        "print((locations.loc[200,'data']))"
      ]
    },
    {
      "cell_type": "code",
      "execution_count": null,
      "metadata": {
        "id": "3P9Edd79hct_"
      },
      "outputs": [],
      "source": [
        "\"\"\"\n",
        "Def: Determine index of each parsed variable in dataframe row\n",
        "Ex: Data col in locations is the string printed above, but when parsed, device id can be identified at index 7\n",
        "\"\"\"\n",
        "str = (loc_snippet.loc[0,'data'].split()) # use split() func to separate data by each comma or colon\n",
        "i = 0;\n",
        "for line in str:\n",
        "  print(\"{}: {}\\n\".format(i, line))\n",
        "  i += 1;"
      ]
    },
    {
      "cell_type": "code",
      "execution_count": null,
      "metadata": {
        "colab": {
          "base_uri": "https://localhost:8080/"
        },
        "id": "TbS3dXxHqQes",
        "outputId": "eb9b20f9-c518-415c-f43a-f1d54f20d4ae"
      },
      "outputs": [
        {
          "name": "stdout",
          "output_type": "stream",
          "text": [
            "        accuracy                             device_id    timestamp_l  \\\n",
            "0          11.64  80067290-4d70-4c50-bce0-8f4422828644  1608642417446   \n",
            "1          11.64  80067290-4d70-4c50-bce0-8f4422828644  1608642419786   \n",
            "2         14.362  3abfa7a7-dd5b-4f80-be76-50c3974b828e  1608642911915   \n",
            "3         18.615  3abfa7a7-dd5b-4f80-be76-50c3974b828e  1608644695213   \n",
            "4         21.309  3abfa7a7-dd5b-4f80-be76-50c3974b828e  1608646477958   \n",
            "...          ...                                   ...            ...   \n",
            "6408489   12.951  5e77a0d1-0487-4da1-891b-8f7daba8c8e9  1631768407138   \n",
            "6408490   12.951  5e77a0d1-0487-4da1-891b-8f7daba8c8e9  1631768407207   \n",
            "6408491       17  5e77a0d1-0487-4da1-891b-8f7daba8c8e9  1631768407290   \n",
            "6408492   25.622  03000c79-945f-4bb8-a595-c2dfec8f6649  1631767338333   \n",
            "6408493   25.622  03000c79-945f-4bb8-a595-c2dfec8f6649  1631767341133   \n",
            "\n",
            "                   altitude           latitude           longitude  \n",
            "0         267.6000061035156         40.1014275         -82.8294801  \n",
            "1         267.6000061035156         40.1014275         -82.8294801  \n",
            "2        264.79998779296875         44.9934775         -93.3936183  \n",
            "3         265.1000061035156          44.993514         -93.3937274  \n",
            "4        265.29998779296875         44.9935301         -93.3937705  \n",
            "...                     ...                ...                 ...  \n",
            "6408489   58.10000228881836         43.6726442         -79.2990963  \n",
            "6408490   58.10000228881836         43.6726442         -79.2990963  \n",
            "6408491                  19  43.67278870660812  -79.29898942820728  \n",
            "6408492    87.4000015258789         36.0002173         -78.9401153  \n",
            "6408493    87.4000015258789         36.0002173         -78.9401153  \n",
            "\n",
            "[6408494 rows x 6 columns]\n"
          ]
        }
      ],
      "source": [
        "\"\"\"\n",
        "Clean data column in locations table: translate data column from string (json) format to a dataframe\n",
        "\"\"\"\n",
        "location_data = locations.loc[:,'data']\n",
        "loc_data = []\n",
        "\n",
        "for row in location_data:\n",
        "  listStr_l = row.split() #parse row (check code above for indexes)\n",
        "\n",
        "  accuracy_split1 = (listStr_l[2] + listStr_l[3]) #accuracy\n",
        "  accuracy_split2 = accuracy_split1.split(':')\n",
        "  accuracy_split3 = accuracy_split2[1].split('\"')\n",
        "  accuracy = accuracy_split3[1].split(',')\n",
        "\n",
        "  deviceid_split1 = (listStr_l[6] + listStr_l[7]) #device id\n",
        "  deviceid_split2 = deviceid_split1.split(':')\n",
        "  deviceid_split3 = deviceid_split2[1].split('\"')\n",
        "  device_id = deviceid_split3[1].split(',')\n",
        "\n",
        "  timestp_split1 = (listStr_l[8] + listStr_l[9]) #timestamp\n",
        "  timestp_split2 = timestp_split1.split(':')\n",
        "  timestamp = timestp_split2[1].split(',')\n",
        "\n",
        "  alt_split1 = (listStr_l[14] + listStr_l[15]) #altitude\n",
        "  alt_split2 = alt_split1.split(':')\n",
        "  altitude = alt_split2[1].split(',')\n",
        "\n",
        "  lat_split1 = (listStr_l[16] + listStr_l[17]) #latitude\n",
        "  lat_split2 = lat_split1.split(':')\n",
        "  latitude = lat_split2[1].split(',')\n",
        "\n",
        "  lon_split1 = (listStr_l[18] + listStr_l[19]) #longitude\n",
        "  lon_split2 = lon_split1.split(':')\n",
        "  longitude = lon_split2[1].split('}')\n",
        "\n",
        "  loc_data.append([accuracy[0], device_id[0], np.int64(timestamp[0]).item(), altitude[0], latitude[0], longitude[0]])\n",
        "\n",
        "location_data = pd.DataFrame(loc_data, columns = ['accuracy', 'device_id', 'timestamp_l', 'altitude', 'latitude', 'longitude'])\n",
        "print(location_data.loc[:,['accuracy', 'device_id', 'timestamp_l', 'altitude', 'latitude', 'longitude']])"
      ]
    },
    {
      "cell_type": "code",
      "execution_count": null,
      "metadata": {
        "id": "tdPNsgeBBkMT"
      },
      "outputs": [],
      "source": [
        "# Download dataframe as csv to local computer\n",
        "location_data.to_csv('locations_data.csv')"
      ]
    },
    {
      "cell_type": "markdown",
      "metadata": {
        "id": "0gfP07EZOThR"
      },
      "source": [
        "# Application Foreground Table"
      ]
    },
    {
      "cell_type": "code",
      "execution_count": null,
      "metadata": {
        "id": "peUwcBkdOTS5"
      },
      "outputs": [],
      "source": [
        "# check first row of dataframe columns\n",
        "app_snippet = app_foreground.head(1)\n",
        "print((app_snippet.loc[0,'data']))"
      ]
    },
    {
      "cell_type": "code",
      "execution_count": null,
      "metadata": {
        "id": "fJUfbmF9jIYV"
      },
      "outputs": [],
      "source": [
        "\"\"\"\n",
        "Def: Determine index of each parsed variable in dataframe row\n",
        "Ex: Data col in app foreground is the string printed above, but when parsed, device id can be identified at index 1\n",
        "\"\"\"\n",
        "str = (app_snippet.loc[0,'data'].split())\n",
        "i = 0;\n",
        "for line in str:\n",
        "  print(\"{}: {}\\n\".format(i, line))\n",
        "  i += 1;"
      ]
    },
    {
      "cell_type": "code",
      "execution_count": null,
      "metadata": {
        "colab": {
          "base_uri": "https://localhost:8080/"
        },
        "id": "AmRYNy3oj9ji",
        "outputId": "d957995e-39e0-4fb9-d7dd-9f3f582f8799"
      },
      "outputs": [
        {
          "name": "stdout",
          "output_type": "stream",
          "text": [
            "                                    device_id    timestamp_a application_name\n",
            "0        27fcd5f2-ba8c-4282-aff3-48a77fed919f  1608616565383              One\n",
            "1        27fcd5f2-ba8c-4282-aff3-48a77fed919f  1608616567776           System\n",
            "2        27fcd5f2-ba8c-4282-aff3-48a77fed919f  1608616572019              One\n",
            "3        27fcd5f2-ba8c-4282-aff3-48a77fed919f  1608616581933           System\n",
            "4        27fcd5f2-ba8c-4282-aff3-48a77fed919f  1608620436700              One\n",
            "...                                       ...            ...              ...\n",
            "7862181  f6619be0-8e7a-49ea-832e-a31c0276f307  1631767434032           System\n",
            "7862182  f6619be0-8e7a-49ea-832e-a31c0276f307  1631767778350            Pixel\n",
            "7862183  f6619be0-8e7a-49ea-832e-a31c0276f307  1631767792254              Sky\n",
            "7862184  f6619be0-8e7a-49ea-832e-a31c0276f307  1631767794672           Google\n",
            "7862185  f6619be0-8e7a-49ea-832e-a31c0276f307  1631767795197              Sky\n",
            "\n",
            "[7862186 rows x 3 columns]\n"
          ]
        }
      ],
      "source": [
        "\"\"\"\n",
        "Clean data column in application foreground table: translate data column from json form to a dataframe\n",
        "\"\"\"\n",
        "foreground_data = app_foreground.loc[:,'data']\n",
        "fore_data = []\n",
        "\n",
        "#foreground_data\n",
        "for row in foreground_data:\n",
        "  listStr_a = row.split() #parse row (check code above for indexes)\n",
        "\n",
        "  deviceid_split1 = (listStr_a[0] + listStr_a[1]) #device id\n",
        "  deviceid_split2 = deviceid_split1.split(':')\n",
        "  deviceid_split3 = deviceid_split2[1].split('\"')\n",
        "  device_id = deviceid_split3[1].split(',')\n",
        "\n",
        "  timestp_split1 = (listStr_a[2] + listStr_a[3]) #timestamp\n",
        "  timestp_split2 = timestp_split1.split(':')\n",
        "  timestamp = timestp_split2[1].split(',')\n",
        "\n",
        "  app_split1 = (listStr_a[8] + listStr_a[9]) #application_name\n",
        "  app_split2 = app_split1.split(':')\n",
        "  application_name = app_split2[1].split('\"')\n",
        "\n",
        "  fore_data.append([device_id[0], timestamp[0], application_name[1]])\n",
        "\n",
        "foreground_data = pd.DataFrame(fore_data, columns = ['device_id', 'timestamp_a', 'application_name'])\n",
        "print(foreground_data.loc[:,['device_id', 'timestamp_a', 'application_name']])"
      ]
    },
    {
      "cell_type": "code",
      "execution_count": null,
      "metadata": {
        "colab": {
          "base_uri": "https://localhost:8080/"
        },
        "id": "Y16TBJ18UO6f",
        "outputId": "84bf42d8-2ce6-4c89-bf98-58536a82d594"
      },
      "outputs": [
        {
          "data": {
            "text/plain": [
              "<bound method NDFrame.head of                                     device_id    timestamp_a application_name\n",
              "7        27fcd5f2-ba8c-4282-aff3-48a77fed919f  1608620739536      Poku00E9mon\n",
              "35       3abfa7a7-dd5b-4f80-be76-50c3974b828e  1608642931088      Poku00E9mon\n",
              "57       80067290-4d70-4c50-bce0-8f4422828644  1608643464392      Poku00E9mon\n",
              "101      3abfa7a7-dd5b-4f80-be76-50c3974b828e  1608644710141      Poku00E9mon\n",
              "103      3abfa7a7-dd5b-4f80-be76-50c3974b828e  1608644717675      Poku00E9mon\n",
              "...                                       ...            ...              ...\n",
              "7862093  79a641ba-bb75-4b9b-a35b-11165a990920  1631763568687      Poku00E9mon\n",
              "7862103  79a641ba-bb75-4b9b-a35b-11165a990920  1631764884037      Poku00E9mon\n",
              "7862141  79a641ba-bb75-4b9b-a35b-11165a990920  1631764972802      Poku00E9mon\n",
              "7862143  79a641ba-bb75-4b9b-a35b-11165a990920  1631765367901      Poku00E9mon\n",
              "7862148  f6619be0-8e7a-49ea-832e-a31c0276f307  1631767233824      Poku00E9mon\n",
              "\n",
              "[459308 rows x 3 columns]>"
            ]
          },
          "execution_count": 11,
          "metadata": {},
          "output_type": "execute_result"
        }
      ],
      "source": [
        "# Code to remove all applications that are not pokemon go\n",
        "\n",
        "# Only select rows with 'pokemon go' application in the foreground\n",
        "app_fore = foreground_data.loc[foreground_data['application_name']=='Poku00E9mon']\n",
        "app_fore.head"
      ]
    },
    {
      "cell_type": "code",
      "execution_count": null,
      "metadata": {
        "id": "fINdm0BfEbs2"
      },
      "outputs": [],
      "source": [
        "# Download dataframe as csv to local computer\n",
        "app_fore.to_csv('applications_foreground_data.csv')"
      ]
    },
    {
      "cell_type": "code",
      "execution_count": null,
      "metadata": {
        "id": "IG5ZUeQbJn-X"
      },
      "outputs": [],
      "source": []
    }
  ],
  "metadata": {
    "accelerator": "TPU",
    "colab": {
      "provenance": [],
      "gpuType": "V28",
      "include_colab_link": true
    },
    "kernelspec": {
      "display_name": "Python 3",
      "name": "python3"
    },
    "language_info": {
      "name": "python"
    }
  },
  "nbformat": 4,
  "nbformat_minor": 0
}